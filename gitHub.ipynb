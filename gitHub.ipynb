{
 "cells": [
  {
   "cell_type": "code",
   "execution_count": 3,
   "metadata": {},
   "outputs": [],
   "source": [
    "from bs4 import BeautifulSoup as soup\n",
    "from urllib.request import urlopen as ureq\n",
    "\n",
    "import matplotlib.pyplot as plt\n"
   ]
  },
  {
   "cell_type": "markdown",
   "metadata": {},
   "source": [
    "# COMMITS"
   ]
  },
  {
   "cell_type": "code",
   "execution_count": 9,
   "metadata": {},
   "outputs": [
    {
     "name": "stdout",
     "output_type": "stream",
     "text": [
      "Enter Username\n",
      "Siddhant231096\n",
      "Total Commits in last 45 days  - \n",
      "24\n"
     ]
    }
   ],
   "source": [
    "print('Enter Username')\n",
    "username=input()\n",
    "\n",
    "url='https://github.com/'+username\n",
    "uclient=ureq(url)\n",
    "page_html=uclient.read()\n",
    "uclient.close()\n",
    "page_soup=soup(page_html,\"html.parser\")\n",
    "container=page_soup.findAll(\"svg\",{\"class\":\"js-calendar-graph-svg\"})\n",
    "\n",
    "contain=container[0]\n",
    "rectt=contain.find_all('rect',{'class':'day'})\n",
    "\n",
    "count=[]\n",
    "date=[]\n",
    "\n",
    "for i in rectt:\n",
    "    count.append(i.get('data-count'))\n",
    "    date.append(i.get('data-date'))\n",
    "    \n",
    "    \n",
    "total_days=len(date)\n",
    "cheking_days=total_days-45\n",
    "\n",
    "days_to_check=[]\n",
    "for i in range(cheking_days,total_days):\n",
    "    days_to_check.append(date[i])\n",
    "\n",
    "count_to_check=[]\n",
    "for i in range(cheking_days,total_days):\n",
    "    count_to_check.append(count[i])\n",
    "    \n",
    "da=0\n",
    "for i in range(45):\n",
    "    if(count_to_check[i]=='0'):\n",
    "        da=da+1\n",
    "        #print(days_to_check[i])\n",
    "\n",
    "\n",
    "summ=0\n",
    "print('Total Commits in last 45 days  - ')\n",
    "for i in count_to_check:\n",
    "    summ=summ+int(i)\n",
    "    \n",
    "print(summ)\n"
   ]
  },
  {
   "cell_type": "markdown",
   "metadata": {},
   "source": [
    "# REPOSITORY"
   ]
  },
  {
   "cell_type": "code",
   "execution_count": 5,
   "metadata": {},
   "outputs": [
    {
     "name": "stdout",
     "output_type": "stream",
     "text": [
      "Enter Username\n",
      "Siddhant231096\n",
      "-------------------------------------------------------------------------------------------\n",
      "/WebScrapping\n",
      "/ML\n",
      "/Computer-Vision\n",
      "/Live-Cricket-Score\n",
      "/HTML\n"
     ]
    }
   ],
   "source": [
    "print('Enter Username')\n",
    "username=input()\n",
    "print('-------------------------------------------------------------------------------------------')\n",
    "next_link='https://github.com/'+username+'?tab=repositories'\n",
    "total_repo=0\n",
    "while 1>0:\n",
    "    url_repo1=next_link\n",
    "    uclient_repo1=ureq(url_repo1)\n",
    "    page_html_repo1=uclient_repo1.read()\n",
    "    uclient_repo1.close()\n",
    "\n",
    "    page_soup_repo1=soup(page_html_repo1,\"html.parser\")\n",
    "\n",
    "    for container_repo1 in page_soup_repo1.find_all(\"div\",{\"id\":\"user-repositories-list\"}):\n",
    "        link1=container_repo1.find_all('a')\n",
    "    name_repo1=[]\n",
    "    for i in link1:\n",
    "        name_repo1.append(i.get('href'))\n",
    "        \n",
    "    \n",
    "    \n",
    "    \n",
    "    after = 0\n",
    "    before=0\n",
    "    after_on=0\n",
    "    before_on=0\n",
    "    for i in range(len(name_repo1)):\n",
    "        if name_repo1[i].find('after') != -1:\n",
    "            after = i\n",
    "            after_on=1\n",
    "            \n",
    "        elif(name_repo1[i].find('before') != -1):\n",
    "            before=i\n",
    "            before_on=1\n",
    "    #print(name_repo1[after])\n",
    "    len_user=len(username)\n",
    "    len_list=len(name_repo1)\n",
    "\n",
    "    \n",
    "    if after_on ==1  and before_on==1:\n",
    "        for i in range(len_list-2):\n",
    "            print(name_repo1[i][len_user+2:])\n",
    "    \n",
    "    elif after_on ==1 or before_on==1:\n",
    "        for i in range(len_list-1):\n",
    "            print(name_repo1[i][len_user+1:])\n",
    "    else:\n",
    "        for i in range(len_list-1):\n",
    "            print(name_repo1[i][len_user+1:])\n",
    "        \n",
    "    \n",
    "    \n",
    "    \n",
    "    if after != 0:\n",
    "        next_link=name_repo1[after]\n",
    "    else:\n",
    "        break"
   ]
  },
  {
   "cell_type": "code",
   "execution_count": null,
   "metadata": {},
   "outputs": [],
   "source": []
  }
 ],
 "metadata": {
  "kernelspec": {
   "display_name": "Python 3",
   "language": "python",
   "name": "python3"
  },
  "language_info": {
   "codemirror_mode": {
    "name": "ipython",
    "version": 3
   },
   "file_extension": ".py",
   "mimetype": "text/x-python",
   "name": "python",
   "nbconvert_exporter": "python",
   "pygments_lexer": "ipython3",
   "version": "3.6.4"
  }
 },
 "nbformat": 4,
 "nbformat_minor": 2
}
