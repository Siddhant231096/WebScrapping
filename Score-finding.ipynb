{
 "cells": [
  {
   "cell_type": "code",
   "execution_count": 1,
   "metadata": {},
   "outputs": [
    {
     "name": "stdout",
     "output_type": "stream",
     "text": [
      "Collecting pycricbuzz\n",
      "  Downloading https://files.pythonhosted.org/packages/a4/f5/f7e1127f92816e5f6e9e375dad3438e427f6add52f5a801d3ecc25729419/pycricbuzz-2.4-py2.py3-none-any.whl\n",
      "Requirement already satisfied: requests in c:\\anaconda\\lib\\site-packages (from pycricbuzz) (2.18.4)\n",
      "Requirement already satisfied: chardet<3.1.0,>=3.0.2 in c:\\anaconda\\lib\\site-packages (from requests->pycricbuzz) (3.0.4)\n",
      "Requirement already satisfied: idna<2.7,>=2.5 in c:\\anaconda\\lib\\site-packages (from requests->pycricbuzz) (2.6)\n",
      "Requirement already satisfied: urllib3<1.23,>=1.21.1 in c:\\anaconda\\lib\\site-packages (from requests->pycricbuzz) (1.22)\n",
      "Requirement already satisfied: certifi>=2017.4.17 in c:\\anaconda\\lib\\site-packages (from requests->pycricbuzz) (2018.1.18)\n",
      "Installing collected packages: pycricbuzz\n",
      "Successfully installed pycricbuzz-2.4\n"
     ]
    }
   ],
   "source": [
    "!pip3 install pycricbuzz\n"
   ]
  },
  {
   "cell_type": "code",
   "execution_count": 2,
   "metadata": {},
   "outputs": [],
   "source": [
    "from pycricbuzz import Cricbuzz\n",
    "import matplotlib.pyplot as plt"
   ]
  },
  {
   "cell_type": "code",
   "execution_count": 3,
   "metadata": {},
   "outputs": [],
   "source": [
    "c=Cricbuzz()\n"
   ]
  },
  {
   "cell_type": "code",
   "execution_count": 4,
   "metadata": {},
   "outputs": [],
   "source": [
    "allmatche=c.matches()\n"
   ]
  },
  {
   "cell_type": "code",
   "execution_count": 5,
   "metadata": {},
   "outputs": [
    {
     "data": {
      "text/plain": [
       "'ICC Cricket World Cup 2019'"
      ]
     },
     "execution_count": 5,
     "metadata": {},
     "output_type": "execute_result"
    }
   ],
   "source": [
    "allmatche[0]['srs']"
   ]
  },
  {
   "cell_type": "code",
   "execution_count": null,
   "metadata": {},
   "outputs": [],
   "source": []
  },
  {
   "cell_type": "code",
   "execution_count": null,
   "metadata": {},
   "outputs": [],
   "source": []
  },
  {
   "cell_type": "code",
   "execution_count": null,
   "metadata": {},
   "outputs": [],
   "source": []
  },
  {
   "cell_type": "code",
   "execution_count": null,
   "metadata": {},
   "outputs": [],
   "source": []
  },
  {
   "cell_type": "code",
   "execution_count": 11,
   "metadata": {},
   "outputs": [],
   "source": [
    "matcheIND=c.matchinfo('20244')\n"
   ]
  },
  {
   "cell_type": "code",
   "execution_count": 90,
   "metadata": {},
   "outputs": [
    {
     "data": {
      "text/plain": [
       "'20244'"
      ]
     },
     "execution_count": 90,
     "metadata": {},
     "output_type": "execute_result"
    }
   ],
   "source": [
    "matche['id']"
   ]
  },
  {
   "cell_type": "code",
   "execution_count": 91,
   "metadata": {
    "scrolled": true
   },
   "outputs": [
    {
     "ename": "SyntaxError",
     "evalue": "EOL while scanning string literal (<ipython-input-91-bcb77e5fbd86>, line 7)",
     "output_type": "error",
     "traceback": [
      "\u001b[1;36m  File \u001b[1;32m\"<ipython-input-91-bcb77e5fbd86>\"\u001b[1;36m, line \u001b[1;32m7\u001b[0m\n\u001b[1;33m    ''''\u001b[0m\n\u001b[1;37m        \n^\u001b[0m\n\u001b[1;31mSyntaxError\u001b[0m\u001b[1;31m:\u001b[0m EOL while scanning string literal\n"
     ]
    }
   ],
   "source": [
    "'''list1=[]\n",
    "for i in range(len(matche)):\n",
    "    list1.append(matche[i]['id'])\n",
    "\n",
    "\n",
    "list1\n",
    "''''"
   ]
  },
  {
   "cell_type": "code",
   "execution_count": 92,
   "metadata": {},
   "outputs": [],
   "source": [
    "#c.matchinfo('20244')"
   ]
  },
  {
   "cell_type": "code",
   "execution_count": 93,
   "metadata": {},
   "outputs": [],
   "source": [
    "#matche['team1']['name']"
   ]
  },
  {
   "cell_type": "code",
   "execution_count": 94,
   "metadata": {},
   "outputs": [],
   "source": [
    "#c.scorecard('20244')['scorecard'][0]['runs']"
   ]
  },
  {
   "cell_type": "code",
   "execution_count": 95,
   "metadata": {},
   "outputs": [],
   "source": [
    "#c.scorecard('20244')['scorecard'][0]"
   ]
  },
  {
   "cell_type": "code",
   "execution_count": 96,
   "metadata": {},
   "outputs": [
    {
     "name": "stdout",
     "output_type": "stream",
     "text": [
      "Dhawan  -- 8\n",
      "Rohit  -- 122\n",
      "Kohli  -- 18\n",
      "Rahul  -- 26\n",
      "Dhoni  -- 34\n",
      "Hardik Pandya  -- 15\n"
     ]
    }
   ],
   "source": [
    "for i in range(len(c.scorecard('20244')['scorecard'][0]['batcard'])):\n",
    "    print(c.scorecard('20244')['scorecard'][0]['batcard'][i]['name'],\" -- \",end='')\n",
    "    print(c.scorecard('20244')['scorecard'][0]['batcard'][i]['runs'])"
   ]
  },
  {
   "cell_type": "code",
   "execution_count": 97,
   "metadata": {},
   "outputs": [
    {
     "data": {
      "text/plain": [
       "'8'"
      ]
     },
     "execution_count": 97,
     "metadata": {},
     "output_type": "execute_result"
    }
   ],
   "source": [
    "\n",
    "c.scorecard('20244')['scorecard'][0]['batcard'][0]['runs']"
   ]
  },
  {
   "cell_type": "code",
   "execution_count": 100,
   "metadata": {},
   "outputs": [],
   "source": [
    "#score=c.livescore('20244')['batting']"
   ]
  },
  {
   "cell_type": "code",
   "execution_count": 101,
   "metadata": {},
   "outputs": [
    {
     "name": "stdout",
     "output_type": "stream",
     "text": [
      "Tahir\n",
      "58\n",
      "10\n",
      "0\n"
     ]
    }
   ],
   "source": [
    "print(c.scorecard('20244')['scorecard'][0]['bowlcard'][0]['name'])\n",
    "print(c.scorecard('20244')['scorecard'][0]['bowlcard'][0]['runs'])\n",
    "print(c.scorecard('20244')['scorecard'][0]['bowlcard'][0]['overs'])\n",
    "print(c.scorecard('20244')['scorecard'][0]['bowlcard'][0]['wickets'])\n",
    "\n"
   ]
  },
  {
   "cell_type": "code",
   "execution_count": 102,
   "metadata": {},
   "outputs": [
    {
     "ename": "NameError",
     "evalue": "name 'score' is not defined",
     "output_type": "error",
     "traceback": [
      "\u001b[1;31m---------------------------------------------------------------------------\u001b[0m",
      "\u001b[1;31mNameError\u001b[0m                                 Traceback (most recent call last)",
      "\u001b[1;32m<ipython-input-102-d2d780e36333>\u001b[0m in \u001b[0;36m<module>\u001b[1;34m()\u001b[0m\n\u001b[1;32m----> 1\u001b[1;33m \u001b[0mscore\u001b[0m\u001b[1;33m\u001b[0m\u001b[0m\n\u001b[0m",
      "\u001b[1;31mNameError\u001b[0m: name 'score' is not defined"
     ]
    }
   ],
   "source": [
    "score"
   ]
  },
  {
   "cell_type": "code",
   "execution_count": 12,
   "metadata": {},
   "outputs": [
    {
     "name": "stdout",
     "output_type": "stream",
     "text": [
      "Series -->>  ICC Cricket World Cup 2019\n",
      "Match -->>  South Africa  Vs  India \n",
      "\n",
      "\n",
      "India  -  230 / 4                       Pakistan  -  227 / 9 \n",
      "\n",
      "\n",
      "@@@@@@@@@@@@@@@@@@@@@@@@@@@@@@@@@@@@@@@@@@@@@@  \n",
      "\n",
      "\n",
      "Win -->>  IND won by 6 wkts \n",
      "\n",
      "\n",
      "@@@@@@@@@@@@@@@@@@@@@@@@@@@@@@@@@@@@@@@@@@@@@@   \n",
      "\n",
      "\n",
      "Team -->>  South Africa\n",
      "Squad -->>  ['de Kock', 'Amla', 'du Plessis', 'van der Dussen', 'Miller', 'Duminy', 'Phehlukwayo', 'Chris Morris', 'Rabada', 'Tahir', 'Shamsi']\n",
      "Team -->>  India\n",
      "Squad -->>  ['Rohit', 'Dhawan', 'Kohli', 'Rahul', 'Dhoni', 'Kedar Jadhav', 'Hardik Pandya', 'Bhuvneshwar', 'Kuldeep Yadav', 'Chahal', 'Bumrah']\n",
      "\n",
      "--------------------------------------------------------\n",
      "\n",
      "Team  India  Batting\n",
      "Dhawan  -- 8\n",
      "Rohit  -- 122\n",
      "Kohli  -- 18\n",
      "Rahul  -- 26\n",
      "Dhoni  -- 34\n",
      "Hardik Pandya  -- 15\n",
      "\n",
      "--------------------------------------------------------\n",
      "\n",
      "Team  South Africa  Batting\n",
      "Amla  -- 6\n",
      "de Kock  -- 10\n",
      "du Plessis  -- 38\n",
      "van der Dussen  -- 22\n",
      "Miller  -- 31\n",
      "Duminy  -- 3\n",
      "Phehlukwayo  -- 34\n",
      "Chris Morris  -- 42\n",
      "Rabada  -- 31\n",
      "Tahir  -- 0\n",
      "\n",
      "--------------------------------------------------------\n",
      "\n",
      "Team  South Africa  Bowling\n",
      "name -  Tahir  runs -  58  overs -  10  wickets -  0\n",
      "name -  Rabada  runs -  39  overs -  10  wickets -  2\n",
      "name -  Chris Morris  runs -  36  overs -  10  wickets -  1\n",
      "name -  Phehlukwayo  runs -  40  overs -  8.3  wickets -  1\n",
      "name -  Shamsi  runs -  54  overs -  9  wickets -  0\n",
      "\n",
      "--------------------------------------------------------\n",
      "\n",
      "Team  India  Bowling\n",
      "name -  Bhuvneshwar  runs -  44  overs -  10  wickets -  2\n",
      "name -  Bumrah  runs -  35  overs -  10  wickets -  2\n",
      "name -  Hardik Pandya  runs -  31  overs -  6  wickets -  0\n",
      "name -  Kuldeep Yadav  runs -  46  overs -  10  wickets -  1\n",
      "name -  Chahal  runs -  51  overs -  10  wickets -  4\n",
      "name -  Kedar Jadhav  runs -  16  overs -  4  wickets -  0\n"
     ]
    },
    {
     "data": {
      "text/plain": [
       "\"    \\nprint('\\n--------------------------------------------------------\\n')\\n\\nnameS=[]\\nrunS=[]\\novers=[]\\nwickets=[]\\n\\n\\nfor i in range(len(c.scorecard('20244')['scorecard'][0]['bowlcard'])):\\n    nameS.append(c.scorecard('20244')['scorecard'][0]['bowlcard'][i]['name'])\\n    runS.append(int(c.scorecard('20244')['scorecard'][0]['bowlcard'][i]['runs']))\\n    overs.append(float(c.scorecard('20244')['scorecard'][0]['bowlcard'][i]['overs']))\\n    wickets.append(int(c.scorecard('20244')['scorecard'][0]['bowlcard'][i]['wickets']))\\n    \\n    \\n    \\nnameovers=[]\\nfor i in range(len(c.scorecard('20244')['scorecard'][0]['bowlcard'])):\\n    nameovers.append((c.scorecard('20244')['scorecard'][0]['bowlcard'][i]['name'])+' '+(c.scorecard('20244')['scorecard'][0]['bowlcard'][i]['overs']))\\n\\n\\n\\n\\nplt.figure(figsize=(10,8))\\nplt.scatter(nameovers,runS,label=matche['team1']['name'])\\nplt.legend()\\nplt.xlabel('Name',color='red')\\nplt.ylabel('Runs',color='red')\\n\\nprint('\\n--------------------------------------------------------\\n')\\n\\nplt.figure(figsize=(10,8))\\nplt.scatter(nameovers,wickets,label=matche['team1']['name'])\\nplt.legend()\\nplt.xlabel('Name',color='red')\\nplt.ylabel('Wickets',color='red')\\n\""
      ]
     },
     "execution_count": 12,
     "metadata": {},
     "output_type": "execute_result"
    }
   ],
   "source": [
    "print('Series -->> ',matcheIND['srs'])\n",
    "#print('Match Status -->> ',matche['mchstate'])\n",
    "print('Match -->> ',matcheIND['team1']['name'],' Vs ',matcheIND['team2']['name'],'\\n\\n')\n",
    "print(matcheIND['team2']['name'],' - ',c.scorecard('20244')['scorecard'][0]['runs'],'/',c.scorecard('20244')['scorecard'][0]['wickets'],'                     ',matche['team1']['name'],' - ',c.scorecard('20244')['scorecard'][1]['runs'],'/',c.scorecard('20244')['scorecard'][1]['wickets'],'\\n\\n')\n",
    "\n",
    "print('@@@@@@@@@@@@@@@@@@@@@@@@@@@@@@@@@@@@@@@@@@@@@@  \\n\\n')\n",
    "print('Win -->> ',matcheIND['status'],'\\n\\n')\n",
    "print('@@@@@@@@@@@@@@@@@@@@@@@@@@@@@@@@@@@@@@@@@@@@@@   \\n\\n')\n",
    "print('Team -->> ',matcheIND['team1']['name'])\n",
    "print('Squad -->> ',matcheIND['team1']['squad'])\n",
    "print('Team -->> ',matcheIND['team2']['name'])\n",
    "print('Squad -->> ',matcheIND['team2']['squad'])\n",
    "print('\\n--------------------------------------------------------\\n')\n",
    "\n",
    "\n",
    "print('Team ',matcheIND['team2']['name'],' Batting')\n",
    "for i in range(len(c.scorecard('20244')['scorecard'][0]['batcard'])):\n",
    "    print(c.scorecard('20244')['scorecard'][0]['batcard'][i]['name'],\" -- \",end='')\n",
    "    print(c.scorecard('20244')['scorecard'][0]['batcard'][i]['runs'])\n",
    "\n",
    "print('\\n--------------------------------------------------------\\n')\n",
    "\n",
    "print('Team ',matcheIND['team1']['name'],' Batting')\n",
    "for i in range(len(c.scorecard('20244')['scorecard'][1]['batcard'])):\n",
    "    print(c.scorecard('20244')['scorecard'][1]['batcard'][i]['name'],\" -- \",end='')\n",
    "    print(c.scorecard('20244')['scorecard'][1]['batcard'][i]['runs'])\n",
    "    \n",
    "print('\\n--------------------------------------------------------\\n')\n",
    "\n",
    "print('Team ',matcheIND['team1']['name'],' Bowling')\n",
    "for i in range(len(c.scorecard('20244')['scorecard'][0]['bowlcard'])):\n",
    "    print('name - ',c.scorecard('20244')['scorecard'][0]['bowlcard'][i]['name'],' runs - ',c.scorecard('20244')['scorecard'][0]['bowlcard'][i]['runs'],' overs - ',c.scorecard('20244')['scorecard'][0]['bowlcard'][i]['overs'],' wickets - ',c.scorecard('20244')['scorecard'][0]['bowlcard'][i]['wickets'])\n",
    "\n",
    "\n",
    "print('\\n--------------------------------------------------------\\n')\n",
    "\n",
    "print('Team ',matcheIND['team2']['name'],' Bowling')\n",
    "\n",
    "for i in range(len(c.scorecard('20244')['scorecard'][1]['bowlcard'])):\n",
    "    print('name - ',c.scorecard('20244')['scorecard'][1]['bowlcard'][i]['name'],' runs - ',c.scorecard('20244')['scorecard'][1]['bowlcard'][i]['runs'],' overs - ',c.scorecard('20244')['scorecard'][1]['bowlcard'][i]['overs'],' wickets - ',c.scorecard('20244')['scorecard'][1]['bowlcard'][i]['wickets'])\n",
    "\n",
    "'''    \n",
    "print('\\n--------------------------------------------------------\\n')\n",
    "\n",
    "nameS=[]\n",
    "runS=[]\n",
    "overs=[]\n",
    "wickets=[]\n",
    "\n",
    "\n",
    "for i in range(len(c.scorecard('20244')['scorecard'][0]['bowlcard'])):\n",
    "    nameS.append(c.scorecard('20244')['scorecard'][0]['bowlcard'][i]['name'])\n",
    "    runS.append(int(c.scorecard('20244')['scorecard'][0]['bowlcard'][i]['runs']))\n",
    "    overs.append(float(c.scorecard('20244')['scorecard'][0]['bowlcard'][i]['overs']))\n",
    "    wickets.append(int(c.scorecard('20244')['scorecard'][0]['bowlcard'][i]['wickets']))\n",
    "    \n",
    "    \n",
    "    \n",
    "nameovers=[]\n",
    "for i in range(len(c.scorecard('20244')['scorecard'][0]['bowlcard'])):\n",
    "    nameovers.append((c.scorecard('20244')['scorecard'][0]['bowlcard'][i]['name'])+' '+(c.scorecard('20244')['scorecard'][0]['bowlcard'][i]['overs']))\n",
    "\n",
    "\n",
    "\n",
    "\n",
    "plt.figure(figsize=(10,8))\n",
    "plt.scatter(nameovers,runS,label=matche['team1']['name'])\n",
    "plt.legend()\n",
    "plt.xlabel('Name',color='red')\n",
    "plt.ylabel('Runs',color='red')\n",
    "\n",
    "print('\\n--------------------------------------------------------\\n')\n",
    "\n",
    "plt.figure(figsize=(10,8))\n",
    "plt.scatter(nameovers,wickets,label=matche['team1']['name'])\n",
    "plt.legend()\n",
    "plt.xlabel('Name',color='red')\n",
    "plt.ylabel('Wickets',color='red')\n",
    "'''"
   ]
  },
  {
   "cell_type": "code",
   "execution_count": 135,
   "metadata": {},
   "outputs": [
    {
     "data": {
      "text/plain": [
       "[{'maidens': '0',\n",
       "  'name': 'Tahir',\n",
       "  'nballs': '0',\n",
       "  'overs': '10',\n",
       "  'runs': '58',\n",
       "  'wickets': '0',\n",
       "  'wides': '0'},\n",
       " {'maidens': '1',\n",
       "  'name': 'Rabada',\n",
       "  'nballs': '0',\n",
       "  'overs': '10',\n",
       "  'runs': '39',\n",
       "  'wickets': '2',\n",
       "  'wides': '1'},\n",
       " {'maidens': '3',\n",
       "  'name': 'Chris Morris',\n",
       "  'nballs': '0',\n",
       "  'overs': '10',\n",
       "  'runs': '36',\n",
       "  'wickets': '1',\n",
       "  'wides': '1'},\n",
       " {'maidens': '0',\n",
       "  'name': 'Phehlukwayo',\n",
       "  'nballs': '0',\n",
       "  'overs': '8.3',\n",
       "  'runs': '40',\n",
       "  'wickets': '1',\n",
       "  'wides': '1'},\n",
       " {'maidens': '0',\n",
       "  'name': 'Shamsi',\n",
       "  'nballs': '0',\n",
       "  'overs': '9',\n",
       "  'runs': '54',\n",
       "  'wickets': '0',\n",
       "  'wides': '1'}]"
      ]
     },
     "execution_count": 135,
     "metadata": {},
     "output_type": "execute_result"
    }
   ],
   "source": [
    "c.scorecard('20244')['scorecard'][0]['bowlcard']"
   ]
  },
  {
   "cell_type": "code",
   "execution_count": 5,
   "metadata": {},
   "outputs": [
    {
     "name": "stdout",
     "output_type": "stream",
     "text": [
      "['Tahir', 'Rabada', 'Chris Morris', 'Phehlukwayo', 'Shamsi']   [58, 39, 36, 40, 54]   [10.0, 10.0, 10.0, 8.3, 9.0]   [0, 2, 1, 1, 0]\n"
     ]
    }
   ],
   "source": [
    "nameS=[]\n",
    "runS=[]\n",
    "overs=[]\n",
    "wickets=[]\n",
    "\n",
    "\n",
    "for i in range(len(c.scorecard('20244')['scorecard'][0]['bowlcard'])):\n",
    "    nameS.append(c.scorecard('20244')['scorecard'][0]['bowlcard'][i]['name'])\n",
    "    runS.append(int(c.scorecard('20244')['scorecard'][0]['bowlcard'][i]['runs']))\n",
    "    overs.append(float(c.scorecard('20244')['scorecard'][0]['bowlcard'][i]['overs']))\n",
    "    wickets.append(int(c.scorecard('20244')['scorecard'][0]['bowlcard'][i]['wickets']))\n",
    "    \n",
    "print(nameS,' ',runS,' ',overs,' ',wickets)\n",
    "\n",
    "\n"
   ]
  },
  {
   "cell_type": "code",
   "execution_count": 6,
   "metadata": {},
   "outputs": [
    {
     "data": {
      "text/plain": [
       "({145: 'Karthik',\n",
       "  211: 'Duminy',\n",
       "  265: 'Dhoni',\n",
       "  314: 'Amla',\n",
       "  576: 'Rohit',\n",
       "  587: 'Jadeja',\n",
       "  1413: 'Kohli',\n",
       "  1446: 'Dhawan',\n",
       "  1726: 'Bhuvneshwar',\n",
       "  1851: 'Kedar Jadhav',\n",
       "  6349: 'Miller',\n",
       "  6667: 'Tahir',\n",
       "  7825: 'du Plessis',\n",
       "  7909: 'Shami',\n",
       "  7910: 'Chahal',\n",
       "  8204: 'Shankar',\n",
       "  8292: 'Kuldeep Yadav',\n",
       "  8333: 'Chris Morris',\n",
       "  8520: 'de Kock',\n",
       "  8651: 'Pretorius',\n",
       "  8733: 'Rahul',\n",
       "  9311: 'Bumrah',\n",
       "  9490: 'Hendricks',\n",
       "  9554: 'van der Dussen',\n",
       "  9582: 'Markram',\n",
       "  9585: 'Rabada',\n",
       "  9601: 'Phehlukwayo',\n",
       "  9647: 'Hardik Pandya',\n",
       "  10173: 'Shamsi'},\n",
       " {2: 'India', 11: 'South Africa'})"
      ]
     },
     "execution_count": 6,
     "metadata": {},
     "output_type": "execute_result"
    }
   ],
   "source": [
    "c.matches"
   ]
  },
  {
   "cell_type": "code",
   "execution_count": null,
   "metadata": {},
   "outputs": [],
   "source": []
  },
  {
   "cell_type": "code",
   "execution_count": 105,
   "metadata": {},
   "outputs": [
    {
     "name": "stdout",
     "output_type": "stream",
     "text": [
      "['Tahir 10', 'Rabada 10', 'Chris Morris 10', 'Phehlukwayo 8.3', 'Shamsi 9']\n"
     ]
    }
   ],
   "source": [
    "nameovers=[]\n",
    "for i in range(len(c.scorecard('20244')['scorecard'][0]['bowlcard'])):\n",
    "    nameovers.append((c.scorecard('20244')['scorecard'][0]['bowlcard'][i]['name'])+' '+(c.scorecard('20244')['scorecard'][0]['bowlcard'][i]['overs']))\n",
    "\n",
    "    \n",
    "print(nameovers)    "
   ]
  },
  {
   "cell_type": "code",
   "execution_count": 106,
   "metadata": {},
   "outputs": [
    {
     "data": {
      "text/plain": [
       "Text(0,0.5,'Runs')"
      ]
     },
     "execution_count": 106,
     "metadata": {},
     "output_type": "execute_result"
    },
    {
     "data": {
      "image/png": "[encoded data removed]",
      "text/plain": [
       "<matplotlib.figure.Figure at 0x20975784e48>"
      ]
     },
     "metadata": {},
     "output_type": "display_data"
    }
   ],
   "source": [
    "plt.figure(figsize=(10,8))\n",
    "plt.scatter(nameovers,runS,label=matche['team1']['name'])\n",
    "plt.legend()\n",
    "plt.xlabel('Name',color='red')\n",
    "plt.ylabel('Runs',color='red')"
   ]
  },
  {
   "cell_type": "code",
   "execution_count": 107,
   "metadata": {},
   "outputs": [
    {
     "data": {
      "text/plain": [
       "Text(0,0.5,'Wickets')"
      ]
     },
     "execution_count": 107,
     "metadata": {},
     "output_type": "execute_result"
    },
    {
     "data": {
      "image/png": "[encoded data removed]",
      "text/plain": [
       "<matplotlib.figure.Figure at 0x20975779eb8>"
      ]
     },
     "metadata": {},
     "output_type": "display_data"
    }
   ],
   "source": [
    "plt.figure(figsize=(10,8))\n",
    "\n",
    "plt.scatter(nameovers,wickets,label=matche['team1']['name'])\n",
    "\n",
    "plt.legend()\n",
    "plt.xlabel('Name',color='red')\n",
    "plt.ylabel('Wickets',color='red')"
   ]
  },
  {
   "cell_type": "code",
   "execution_count": null,
   "metadata": {},
   "outputs": [],
   "source": []
  },
  {
   "cell_type": "code",
   "execution_count": 138,
   "metadata": {},
   "outputs": [
    {
     "name": "stdout",
     "output_type": "stream",
     "text": [
      "['20247', '20246', '20245', '21633', '22562', '21696', '21695', '21690', '21693', '21688']\n"
     ]
    },
    {
     "data": {
      "text/plain": [
       "'ICC Cricket World Cup 2019'"
      ]
     },
     "execution_count": 138,
     "metadata": {},
     "output_type": "execute_result"
    }
   ],
   "source": [
    "matchid=[]\n",
    "for i in range(len(allmatche)):\n",
    "    matchid.append(allmatche[i]['id'])\n",
    "    \n",
    "print(matchid)\n",
    "\n",
    "for i in matchid:\n",
    "    matche=c.matchinfo(i)\n",
    "    \n",
    "    \n",
    "    \n",
    "    "
   ]
  },
  {
   "cell_type": "code",
   "execution_count": 116,
   "metadata": {
    "scrolled": true
   },
   "outputs": [
    {
     "name": "stdout",
     "output_type": "stream",
     "text": [
      "20245\n"
     ]
    }
   ],
   "source": [
    "matchdetail=[]\n",
    "for i in matchid:\n",
    "    matchdetail.append(c.matchinfo(i)['id'])\n",
    "\n",
    "print(matchdetail[1])\n"
   ]
  },
  {
   "cell_type": "code",
   "execution_count": 118,
   "metadata": {},
   "outputs": [
    {
     "name": "stdout",
     "output_type": "stream",
     "text": [
      "20246\n"
     ]
    }
   ],
   "source": [
    "for i in \n",
    "matche=c.matchinfo(i)\n",
    "\n",
    "print(matchdetail[0])"
   ]
  },
  {
   "cell_type": "code",
   "execution_count": null,
   "metadata": {},
   "outputs": [],
   "source": [
    "mom   , delay, inprogress,complete"
   ]
  },
  {
   "cell_type": "code",
   "execution_count": 31,
   "metadata": {},
   "outputs": [
    {
     "name": "stdout",
     "output_type": "stream",
     "text": [
      "['20247', '20246', '20248', '21633', '22563']\n",
      "20247\n",
      "delay\n",
      "20246\n",
      "mom\n",
      "20248\n",
      "preview\n",
      "21633\n",
      "mom\n",
      "22563\n",
      "preview\n"
     ]
    },
    {
     "data": {
      "text/plain": [
       "{'id': '20248',\n",
       " 'mchstate': 'preview',\n",
       " 'mnum': 'Match 12',\n",
       " 'official': {'referee': {'country': 'AUS',\n",
       "   'id': '4702',\n",
       "   'name': 'David Boon'},\n",
       "  'umpire1': {'country': 'WI', 'id': '7931', 'name': 'Joel Wilson'},\n",
       "  'umpire2': {'country': 'SL', 'id': '3576', 'name': 'Kumar Dharmasena'},\n",
       "  'umpire3': {'country': 'AUS', 'id': '6841', 'name': 'Bruce Oxenford'}},\n",
       " 'srs': 'ICC Cricket World Cup 2019',\n",
       " 'start_time': '2019-06-08 15:00:00',\n",
       " 'status': 'Starts in 22 hrs 39 mins',\n",
       " 'team1': {'name': 'England',\n",
       "  'squad': [],\n",
       "  'squad_bench': ['Morgan',\n",
       "   'Buttler',\n",
       "   'Roy',\n",
       "   'Bairstow',\n",
       "   'Root',\n",
       "   'Stokes',\n",
       "   'Moeen Ali',\n",
       "   'Woakes',\n",
       "   'Jofra Archer',\n",
       "   'Adil Rashid',\n",
       "   'Mark Wood',\n",
       "   'Plunkett',\n",
       "   'Tom Curran',\n",
       "   'James Vince',\n",
       "   'Dawson']},\n",
       " 'team2': {'name': 'Bangladesh',\n",
       "  'squad': [],\n",
       "  'squad_bench': ['Rahim',\n",
       "   'Mortaza',\n",
       "   'Tamim',\n",
       "   'Soumya Sarkar',\n",
       "   'Shakib',\n",
       "   'Mithun',\n",
       "   'Mahmudullah',\n",
       "   'Mosaddek Hossain',\n",
       "   'Saifuddin',\n",
       "   'Mehidy Hasan',\n",
       "   'Mustafizur',\n",
       "   'Liton Das',\n",
       "   'Sabbir Rahman',\n",
       "   'Rubel',\n",
       "   'Abu Jayed']},\n",
       " 'toss': '',\n",
       " 'type': 'ODI',\n",
       " 'venue_location': 'Cardiff, Wales',\n",
       " 'venue_name': 'Sophia Gardens'}"
      ]
     },
     "execution_count": 31,
     "metadata": {},
     "output_type": "execute_result"
    }
   ],
   "source": [
    "matchid=[]\n",
    "for i in range(len(allmatche)):\n",
    "    matchid.append(allmatche[i]['id'])\n",
    "    \n",
    "print(matchid)\n",
    "for i in matchid:\n",
    "    print(i)\n",
    "    print(c.matchinfo(i)['mchstate'])\n",
    "    #print(c.scorecard(i)['scorecard'])\n",
    "    \n",
    "    \n",
    "    \n",
    "c.matchinfo('20248')"
   ]
  },
  {
   "cell_type": "code",
   "execution_count": 9,
   "metadata": {},
   "outputs": [
    {
     "data": {
      "text/plain": [
       "{'id': '20247',\n",
       " 'mchstate': 'abandon',\n",
       " 'mnum': 'Match 11',\n",
       " 'official': {'referee': {'country': 'ZIM',\n",
       "   'id': '3395',\n",
       "   'name': 'Andy Pycroft'},\n",
       "  'umpire1': {'country': 'ENG', 'id': '6844', 'name': 'Nigel Llong'},\n",
       "  'umpire2': {'country': 'ENG', 'id': '5462', 'name': 'Ian Gould'},\n",
       "  'umpire3': {'country': 'AUS', 'id': '4758', 'name': 'Paul Wilson'}},\n",
       " 'srs': 'ICC Cricket World Cup 2019',\n",
       " 'start_time': '2019-06-07 15:00:00',\n",
       " 'status': 'Match abandoned without a ball bowled (no toss)',\n",
       " 'team1': {'name': 'Pakistan',\n",
       "  'squad': ['Sarfaraz'],\n",
       "  'squad_bench': ['Imam',\n",
       "   'Fakhar Zaman',\n",
       "   'Babar Azam',\n",
       "   'Hafeez',\n",
       "   'Asif Ali',\n",
       "   'Shoaib Malik',\n",
       "   'Riaz',\n",
       "   'Hasan Ali',\n",
       "   'Shadab Khan',\n",
       "   'Amir',\n",
       "   'Haris Sohail',\n",
       "   'Mohammad Hasnain',\n",
       "   'Imad Wasim',\n",
       "   'Shaheen Afridi']},\n",
       " 'team2': {'name': 'Sri Lanka',\n",
       "  'squad': ['Karunaratne', 'Kusal Perera'],\n",
       "  'squad_bench': ['Thirimanne',\n",
       "   'Kusal Mendis',\n",
       "   'Mathews',\n",
       "   'Dhananjaya de Silva',\n",
       "   'Perera',\n",
       "   'Udana',\n",
       "   'Lakmal',\n",
       "   'Malinga',\n",
       "   'Pradeep',\n",
       "   'J Mendis',\n",
       "   'Avishka Fernando',\n",
       "   'Vandersay',\n",
       "   'Siriwardana']},\n",
       " 'toss': '',\n",
       " 'type': 'ODI',\n",
       " 'venue_location': 'Bristol, England',\n",
       " 'venue_name': 'County Ground'}"
      ]
     },
     "execution_count": 9,
     "metadata": {},
     "output_type": "execute_result"
    }
   ],
   "source": [
    "c.matchinfo('20247')"
   ]
  },
  {
   "cell_type": "code",
   "execution_count": 11,
   "metadata": {},
   "outputs": [
    {
     "name": "stdout",
     "output_type": "stream",
     "text": [
      "['20246', '20247', '20248', '20249', '21633', '22563']\n",
      "\n",
      "***********************************************************************************************************\n",
      "\n",
      "Series -->>  ICC Cricket World Cup 2019\n",
      "Match -->>  Australia  Vs  West Indies \n",
      "\n",
      "\n",
      "West Indies  -  273 / 9                       Australia  -  288 / 10 \n",
      "\n",
      "\n",
      "@@@@@@@@@@@@@@@@@@@@@@@@@@@@@@@@@@@@@@@@@@@@@@  \n",
      "\n",
      "\n",
      "Win -->>  AUS won by 15 runs \n",
      "\n",
      "\n",
      "@@@@@@@@@@@@@@@@@@@@@@@@@@@@@@@@@@@@@@@@@@@@@@   \n",
      "\n",
      "\n",
      "Team -->>  Australia\n",
      "Squad -->>  ['Finch', 'Warner', 'Khawaja', 'Smith', 'Maxwell', 'Stoinis', 'Carey', 'Coulter-Nile', 'Pat Cummins', 'Starc', 'Zampa']\n",
      "Team -->>  West Indies\n",
      "Squad -->>  ['Gayle', 'Lewis', 'Shai Hope', 'Pooran', 'Hetmyer', 'A Russell', 'Holder', 'Brathwaite', 'Nurse', 'Cottrell', 'Thomas']\n",
      "\n",
      "--------------------------------------------------------\n",
      "\n",
      "Team  West Indies  Batting\n",
      "Gayle  -- 21\n",
      "Lewis  -- 1\n",
      "Shai Hope  -- 68\n",
      "Pooran  -- 40\n",
      "Hetmyer  -- 21\n",
      "Holder  -- 51\n",
      "A Russell  -- 15\n",
      "Brathwaite  -- 16\n",
      "Nurse  -- 19\n",
      "Cottrell  -- 1\n",
      "Thomas  -- 0\n",
      "\n",
      "--------------------------------------------------------\n",
      "\n",
      "Team  Australia  Batting\n",
      "Warner  -- 3\n",
      "Finch  -- 6\n",
      "Khawaja  -- 13\n",
      "Smith  -- 73\n",
      "Maxwell  -- 0\n",
      "Stoinis  -- 19\n",
      "Carey  -- 45\n",
      "Coulter-Nile  -- 92\n",
      "Pat Cummins  -- 2\n",
      "Starc  -- 8\n",
      "Zampa  -- 0\n",
      "\n",
      "--------------------------------------------------------\n",
      "\n",
      "Team  Australia  Bowling\n",
      "name -  Starc  runs -  46  overs -  10  wickets -  5\n",
      "name -  Pat Cummins  runs -  41  overs -  10  wickets -  2\n",
      "name -  Coulter-Nile  runs -  70  overs -  10  wickets -  0\n",
      "name -  Maxwell  runs -  31  overs -  6  wickets -  0\n",
      "name -  Zampa  runs -  58  overs -  10  wickets -  1\n",
      "name -  Stoinis  runs -  18  overs -  4  wickets -  0\n",
      "\n",
      "--------------------------------------------------------\n",
      "\n",
      "Team  West Indies  Bowling\n",
      "name -  Thomas  runs -  63  overs -  10  wickets -  2\n",
      "name -  Cottrell  runs -  56  overs -  9  wickets -  2\n",
      "name -  A Russell  runs -  41  overs -  8  wickets -  2\n",
      "name -  Brathwaite  runs -  67  overs -  10  wickets -  3\n",
      "name -  Holder  runs -  28  overs -  7  wickets -  1\n",
      "name -  Nurse  runs -  31  overs -  5  wickets -  0\n",
      "\n",
      "***********************************************************************************************************\n",
      "\n",
      "Series -->>  ICC Cricket World Cup 2019\n",
      "Match -->>  Pakistan  Vs  Sri Lanka \n",
      "\n",
      "\n",
      "MATCH IS DELAY --------------------------\n",
      "\n",
      "--------------------------------------------------------\n",
      "\n",
      "\n",
      "***********************************************************************************************************\n",
      "\n",
      "Series -->>  ICC Cricket World Cup 2019\n",
      "Match -->>  England  Vs  Bangladesh \n",
      "\n",
      "\n",
      "MATCH IS DELAY --------------------------\n",
      "\n",
      "--------------------------------------------------------\n",
      "\n",
      "\n",
      "***********************************************************************************************************\n",
      "\n",
      "Series -->>  ICC Cricket World Cup 2019\n",
      "Match -->>  Afghanistan  Vs  New Zealand \n",
      "\n",
      "\n",
      "MATCH IS DELAY --------------------------\n",
      "\n",
      "--------------------------------------------------------\n",
      "\n",
      "\n",
      "***********************************************************************************************************\n",
      "\n",
      "Series -->>  West Indies Women tour of England 2019\n",
      "Match -->>  England Women  Vs  West Indies Women \n",
      "\n",
      "\n",
      "West Indies Women  -  110 / 10                       England Women  -  318 / 9 \n",
      "\n",
      "\n",
      "@@@@@@@@@@@@@@@@@@@@@@@@@@@@@@@@@@@@@@@@@@@@@@  \n",
      "\n",
      "\n",
      "Win -->>  ENG Women won by 208 runs \n",
      "\n",
      "\n",
      "@@@@@@@@@@@@@@@@@@@@@@@@@@@@@@@@@@@@@@@@@@@@@@   \n",
      "\n",
      "\n",
      "Team -->>  England Women\n",
      "Squad -->>  ['Beaumont', 'Jones', 'Taylor', 'Sciver', 'Knight', 'Brunt', 'Wyatt', 'Kate Cross', 'Shrubsole', 'Ecclestone', 'Marsh']\n",
      "Team -->>  West Indies Women\n",
      "Squad -->>  ['Hayley Matthews', 'Kycia Knight', 'Taylor', 'Stacy-Ann King', 'Campbelle', 'Chedean Nation', 'Knight', 'Chinelle Henry', 'Afy Fletcher', 'Selman', 'Shamilia Connell']\n",
      "\n",
      "--------------------------------------------------------\n",
      "\n",
      "Team  West Indies Women  Batting\n",
      "Hayley Matthews  -- 17\n",
      "Kycia Knight  -- 16\n",
      "Campbelle  -- 0\n",
      "Taylor  -- 1\n",
      "Chedean Nation  -- 42\n",
      "Knight  -- 3\n",
      "Stacy-Ann King  -- 0\n",
      "Chinelle Henry  -- 10\n",
      "Afy Fletcher  -- 2\n",
      "Selman  -- 0\n",
      "Shamilia Connell  -- 0\n",
      "\n",
      "--------------------------------------------------------\n",
      "\n",
      "Team  England Women  Batting\n",
      "Jones  -- 91\n",
      "Beaumont  -- 32\n",
      "Taylor  -- 4\n",
      "Knight  -- 94\n",
      "Sciver  -- 32\n",
      "Wyatt  -- 8\n",
      "Brunt  -- 16\n",
      "Shrubsole  -- 13\n",
      "Marsh  -- 6\n",
      "Kate Cross  -- 2\n",
      "Ecclestone  -- 6\n",
      "\n",
      "--------------------------------------------------------\n",
      "\n",
      "Team  England Women  Bowling\n",
      "name -  Shrubsole  runs -  27  overs -  6  wickets -  0\n",
      "name -  Brunt  runs -  6  overs -  5  wickets -  2\n",
      "name -  Kate Cross  runs -  12  overs -  5  wickets -  1\n",
      "name -  Ecclestone  runs -  30  overs -  10  wickets -  3\n",
      "name -  Marsh  runs -  30  overs -  9  wickets -  3\n",
      "name -  Sciver  runs -  0  overs -  1  wickets -  1\n",
      "\n",
      "--------------------------------------------------------\n",
      "\n",
      "Team  West Indies Women  Bowling\n",
      "name -  Selman  runs -  64  overs -  10  wickets -  2\n",
      "name -  Shamilia Connell  runs -  32  overs -  4  wickets -  0\n",
      "name -  Stacy-Ann King  runs -  25  overs -  2  wickets -  0\n",
      "name -  Hayley Matthews  runs -  57  overs -  10  wickets -  4\n",
      "name -  Taylor  runs -  50  overs -  10  wickets -  1\n",
      "name -  Afy Fletcher  runs -  59  overs -  10  wickets -  2\n",
      "name -  Chinelle Henry  runs -  27  overs -  4  wickets -  0\n",
      "\n",
      "***********************************************************************************************************\n",
      "\n",
      "Series -->>  Sri Lanka A tour of India 2019\n",
      "Match -->>  India A  Vs  Sri Lanka A \n",
      "\n",
      "\n",
      "MATCH IS DELAY --------------------------\n",
      "\n",
      "--------------------------------------------------------\n",
      "\n"
     ]
    },
    {
     "data": {
      "text/plain": [
       "\"    \\nprint('\\n--------------------------------------------------------\\n')\\n\\nnameS=[]\\nrunS=[]\\novers=[]\\nwickets=[]\\n\\n\\nfor i in range(len(c.scorecard('20244')['scorecard'][0]['bowlcard'])):\\n    nameS.append(c.scorecard('20244')['scorecard'][0]['bowlcard'][i]['name'])\\n    runS.append(int(c.scorecard('20244')['scorecard'][0]['bowlcard'][i]['runs']))\\n    overs.append(float(c.scorecard('20244')['scorecard'][0]['bowlcard'][i]['overs']))\\n    wickets.append(int(c.scorecard('20244')['scorecard'][0]['bowlcard'][i]['wickets']))\\n    \\n    \\n    \\nnameovers=[]\\nfor i in range(len(c.scorecard('20244')['scorecard'][0]['bowlcard'])):\\n    nameovers.append((c.scorecard('20244')['scorecard'][0]['bowlcard'][i]['name'])+' '+(c.scorecard('20244')['scorecard'][0]['bowlcard'][i]['overs']))\\n\\n\\n\\n\\nplt.figure(figsize=(10,8))\\nplt.scatter(nameovers,runS,label=matche['team1']['name'])\\nplt.legend()\\nplt.xlabel('Name',color='red')\\nplt.ylabel('Runs',color='red')\\n\\nprint('\\n--------------------------------------------------------\\n')\\n\\nplt.figure(figsize=(10,8))\\nplt.scatter(nameovers,wickets,label=matche['team1']['name'])\\nplt.legend()\\nplt.xlabel('Name',color='red')\\nplt.ylabel('Wickets',color='red')\\n\""
      ]
     },
     "execution_count": 11,
     "metadata": {},
     "output_type": "execute_result"
    }
   ],
   "source": [
    "\n",
    "matchid=[]\n",
    "for i in range(len(allmatche)):\n",
    "    matchid.append(allmatche[i]['id'])\n",
    "    \n",
    "print(matchid)\n",
    "\n",
    "for j in matchid:\n",
    "    print('\\n***********************************************************************************************************\\n')\n",
    "    matche=c.matchinfo(j)    \n",
    "    print('Series -->> ',matche['srs'])\n",
    "    #print('Match Status -->> ',matche['mchstate'])\n",
    "    print('Match -->> ',matche['team1']['name'],' Vs ',matche['team2']['name'],'\\n\\n')\n",
    "    if(c.matchinfo(j)['mchstate']=='delay' or c.matchinfo(j)['mchstate']=='preview' or c.matchinfo(j)['mchstate']=='abandon'):\n",
    "        print('MATCH IS DELAY --------------------------')\n",
    "        print('\\n--------------------------------------------------------\\n')\n",
    "        continue\n",
    "    print(matche['team2']['name'],' - ',c.scorecard(j)['scorecard'][0]['runs'],'/',c.scorecard(j)['scorecard'][0]['wickets'],'                     ',matche['team1']['name'],' - ',c.scorecard(j)['scorecard'][1]['runs'],'/',c.scorecard(j)['scorecard'][1]['wickets'],'\\n\\n')\n",
    "    print('@@@@@@@@@@@@@@@@@@@@@@@@@@@@@@@@@@@@@@@@@@@@@@  \\n\\n')\n",
    "    print('Win -->> ',matche['status'],'\\n\\n')\n",
    "    print('@@@@@@@@@@@@@@@@@@@@@@@@@@@@@@@@@@@@@@@@@@@@@@   \\n\\n')\n",
    "    print('Team -->> ',matche['team1']['name'])\n",
    "    print('Squad -->> ',matche['team1']['squad'])\n",
    "    print('Team -->> ',matche['team2']['name'])\n",
    "    print('Squad -->> ',matche['team2']['squad'])\n",
    "    print('\\n--------------------------------------------------------\\n')\n",
    "\n",
    "\n",
    "    print('Team ',matche['team2']['name'],' Batting')\n",
    "    for i in range(len(c.scorecard(j)['scorecard'][0]['batcard'])):\n",
    "        print(c.scorecard(j)['scorecard'][0]['batcard'][i]['name'],\" -- \",end='')\n",
    "        print(c.scorecard(j)['scorecard'][0]['batcard'][i]['runs'])\n",
    "\n",
    "    print('\\n--------------------------------------------------------\\n')\n",
    "\n",
    "    print('Team ',matche['team1']['name'],' Batting')\n",
    "    for i in range(len(c.scorecard(j)['scorecard'][1]['batcard'])):\n",
    "        print(c.scorecard(j)['scorecard'][1]['batcard'][i]['name'],\" -- \",end='')\n",
    "        print(c.scorecard(j)['scorecard'][1]['batcard'][i]['runs'])\n",
    "    \n",
    "    print('\\n--------------------------------------------------------\\n')\n",
    "\n",
    "    print('Team ',matche['team1']['name'],' Bowling')\n",
    "    for i in range(len(c.scorecard(j)['scorecard'][0]['bowlcard'])):\n",
    "        print('name - ',c.scorecard(j)['scorecard'][0]['bowlcard'][i]['name'],' runs - ',c.scorecard(j)['scorecard'][0]['bowlcard'][i]['runs'],' overs - ',c.scorecard(j)['scorecard'][0]['bowlcard'][i]['overs'],' wickets - ',c.scorecard(j)['scorecard'][0]['bowlcard'][i]['wickets'])\n",
    "\n",
    "\n",
    "    print('\\n--------------------------------------------------------\\n')\n",
    "\n",
    "    print('Team ',matche['team2']['name'],' Bowling')\n",
    "\n",
    "    for i in range(len(c.scorecard(j)['scorecard'][1]['bowlcard'])):\n",
    "        print('name - ',c.scorecard(j)['scorecard'][1]['bowlcard'][i]['name'],' runs - ',c.scorecard(j)['scorecard'][1]['bowlcard'][i]['runs'],' overs - ',c.scorecard(j)['scorecard'][1]['bowlcard'][i]['overs'],' wickets - ',c.scorecard(j)['scorecard'][1]['bowlcard'][i]['wickets'])\n",
    "\n",
    "'''    \n",
    "print('\\n--------------------------------------------------------\\n')\n",
    "\n",
    "nameS=[]\n",
    "runS=[]\n",
    "overs=[]\n",
    "wickets=[]\n",
    "\n",
    "\n",
    "for i in range(len(c.scorecard('20244')['scorecard'][0]['bowlcard'])):\n",
    "    nameS.append(c.scorecard('20244')['scorecard'][0]['bowlcard'][i]['name'])\n",
    "    runS.append(int(c.scorecard('20244')['scorecard'][0]['bowlcard'][i]['runs']))\n",
    "    overs.append(float(c.scorecard('20244')['scorecard'][0]['bowlcard'][i]['overs']))\n",
    "    wickets.append(int(c.scorecard('20244')['scorecard'][0]['bowlcard'][i]['wickets']))\n",
    "    \n",
    "    \n",
    "    \n",
    "nameovers=[]\n",
    "for i in range(len(c.scorecard('20244')['scorecard'][0]['bowlcard'])):\n",
    "    nameovers.append((c.scorecard('20244')['scorecard'][0]['bowlcard'][i]['name'])+' '+(c.scorecard('20244')['scorecard'][0]['bowlcard'][i]['overs']))\n",
    "\n",
    "\n",
    "\n",
    "\n",
    "plt.figure(figsize=(10,8))\n",
    "plt.scatter(nameovers,runS,label=matche['team1']['name'])\n",
    "plt.legend()\n",
    "plt.xlabel('Name',color='red')\n",
    "plt.ylabel('Runs',color='red')\n",
    "\n",
    "print('\\n--------------------------------------------------------\\n')\n",
    "\n",
    "plt.figure(figsize=(10,8))\n",
    "plt.scatter(nameovers,wickets,label=matche['team1']['name'])\n",
    "plt.legend()\n",
    "plt.xlabel('Name',color='red')\n",
    "plt.ylabel('Wickets',color='red')\n",
    "'''"
   ]
  },
  {
   "cell_type": "code",
   "execution_count": null,
   "metadata": {},
   "outputs": [],
   "source": []
  }
 ],
 "metadata": {
  "kernelspec": {
   "display_name": "Python 3",
   "language": "python",
   "name": "python3"
  },
  "language_info": {
   "codemirror_mode": {
    "name": "ipython",
    "version": 3
   },
   "file_extension": ".py",
   "mimetype": "text/x-python",
   "name": "python",
   "nbconvert_exporter": "python",
   "pygments_lexer": "ipython3",
   "version": "3.6.4"
  }
 },
 "nbformat": 4,
 "nbformat_minor": 2
}
